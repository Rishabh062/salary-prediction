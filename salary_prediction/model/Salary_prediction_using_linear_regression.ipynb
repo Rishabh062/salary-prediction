{
  "nbformat": 4,
  "nbformat_minor": 0,
  "metadata": {
    "colab": {
      "name": "Salary prediction using linear regression.ipynb",
      "provenance": []
    },
    "kernelspec": {
      "name": "python3",
      "display_name": "Python 3.9.1 64-bit",
      "metadata": {
        "interpreter": {
          "hash": "f6e198d11f1868bbf7cf2e66594701b2ca9847bc6e63a036c81f6d98c7d3f9c1"
        }
      }
    }
  },
  "cells": [
    {
      "cell_type": "markdown",
      "metadata": {
        "id": "18DqVI-ykCZZ"
      },
      "source": [
        "# Predict Salary using Simple Linear Regression\r\n",
        "\r\n",
        "**Aim of this project is to predict salary of employee using simple linear regression which is based on the year of experience**\r\n",
        "\r\n",
        "*We have a salary.csv file,which will help us in predicting the salary of new enployee.*"
      ]
    },
    {
      "cell_type": "code",
      "metadata": {
        "id": "Ov366fHej4Yr"
      },
      "source": [
        "# import libraries and data\n",
        "import pandas as pd\n",
        "import pickle"
      ],
      "execution_count": 8,
      "outputs": []
    },
    {
      "cell_type": "code",
      "metadata": {
        "colab": {
          "base_uri": "https://localhost:8080/",
          "height": 359
        },
        "id": "6giYOqaNmmF9",
        "outputId": "a9d0bbc9-fec0-495f-f4cc-431137d0fb32"
      },
      "source": [
        "dataset = pd.read_csv('Salary_Data.csv')\r\n",
        "X= dataset.iloc[:,:-1].values\r\n",
        "y= dataset.iloc[:,1].values\r\n",
        "# use to see csv file\r\n",
        "dataset.head(10)"
      ],
      "execution_count": 9,
      "outputs": [
        {
          "output_type": "execute_result",
          "data": {
            "text/plain": [
              "   YearsExperience   Salary\n",
              "0              1.1  39343.0\n",
              "1              1.3  46205.0\n",
              "2              1.5  37731.0\n",
              "3              2.0  43525.0\n",
              "4              2.2  39891.0\n",
              "5              2.9  56642.0\n",
              "6              3.0  60150.0\n",
              "7              3.2  54445.0\n",
              "8              3.2  64445.0\n",
              "9              3.7  57189.0"
            ],
            "text/html": "<div>\n<style scoped>\n    .dataframe tbody tr th:only-of-type {\n        vertical-align: middle;\n    }\n\n    .dataframe tbody tr th {\n        vertical-align: top;\n    }\n\n    .dataframe thead th {\n        text-align: right;\n    }\n</style>\n<table border=\"1\" class=\"dataframe\">\n  <thead>\n    <tr style=\"text-align: right;\">\n      <th></th>\n      <th>YearsExperience</th>\n      <th>Salary</th>\n    </tr>\n  </thead>\n  <tbody>\n    <tr>\n      <th>0</th>\n      <td>1.1</td>\n      <td>39343.0</td>\n    </tr>\n    <tr>\n      <th>1</th>\n      <td>1.3</td>\n      <td>46205.0</td>\n    </tr>\n    <tr>\n      <th>2</th>\n      <td>1.5</td>\n      <td>37731.0</td>\n    </tr>\n    <tr>\n      <th>3</th>\n      <td>2.0</td>\n      <td>43525.0</td>\n    </tr>\n    <tr>\n      <th>4</th>\n      <td>2.2</td>\n      <td>39891.0</td>\n    </tr>\n    <tr>\n      <th>5</th>\n      <td>2.9</td>\n      <td>56642.0</td>\n    </tr>\n    <tr>\n      <th>6</th>\n      <td>3.0</td>\n      <td>60150.0</td>\n    </tr>\n    <tr>\n      <th>7</th>\n      <td>3.2</td>\n      <td>54445.0</td>\n    </tr>\n    <tr>\n      <th>8</th>\n      <td>3.2</td>\n      <td>64445.0</td>\n    </tr>\n    <tr>\n      <th>9</th>\n      <td>3.7</td>\n      <td>57189.0</td>\n    </tr>\n  </tbody>\n</table>\n</div>"
          },
          "metadata": {},
          "execution_count": 9
        }
      ]
    },
    {
      "cell_type": "code",
      "metadata": {
        "id": "is42jkVSmz74"
      },
      "source": [
        "# Split data into training and testing\r\n",
        "from sklearn.model_selection import train_test_split\r\n",
        "X_train, X_test, y_train,y_test = train_test_split(X,y,test_size=1/3,random_state=0)"
      ],
      "execution_count": 10,
      "outputs": []
    },
    {
      "cell_type": "code",
      "metadata": {
        "colab": {
          "base_uri": "https://localhost:8080/"
        },
        "id": "aBiFhb6hn0ae",
        "outputId": "ae2a9647-d297-4160-d49f-0eb4e7f4e56f"
      },
      "source": [
        "# Fit Simple Linear Regression to training Data\r\n",
        "from sklearn.linear_model import LinearRegression\r\n",
        "regression = LinearRegression()\r\n",
        "regression.fit(X_train,y_train)"
      ],
      "execution_count": 11,
      "outputs": [
        {
          "output_type": "execute_result",
          "data": {
            "text/plain": [
              "LinearRegression()"
            ]
          },
          "metadata": {},
          "execution_count": 11
        }
      ]
    },
    {
      "cell_type": "code",
      "execution_count": 14,
      "metadata": {},
      "outputs": [],
      "source": [
        "pickle.dump(regression, open('model.pkl','wb'))"
      ]
    },
    {
      "cell_type": "code",
      "metadata": {
        "id": "TjdLG6pOoRF5"
      },
      "source": [
        "# Make prediction\r\n",
        "y_pred = regression.predict(X_test)"
      ],
      "execution_count": 5,
      "outputs": []
    },
    {
      "cell_type": "code",
      "metadata": {
        "colab": {
          "base_uri": "https://localhost:8080/",
          "height": 295
        },
        "id": "Y5lSBNNTovk_",
        "outputId": "73b1e019-36e4-4100-d99e-6db57878ecac"
      },
      "source": [
        "# Visualize training set result using matplotlib\r\n",
        "import matplotlib.pyplot as plt\r\n",
        "plt.scatter(X_train,y_train,color='red')\r\n",
        "plt.plot(X_train,regression.predict(X_train),color='blue')\r\n",
        "plt.title('Salary vs Experience(Test set)')\r\n",
        "plt.xlabel('Year of Experience')\r\n",
        "plt.ylabel('Salary')\r\n",
        "plt.show()"
      ],
      "execution_count": 9,
      "outputs": [
        {
          "output_type": "display_data",
          "data": {
            "image/png": "[encoded data removed]",
            "text/plain": [
              "<Figure size 432x288 with 1 Axes>"
            ]
          },
          "metadata": {
            "tags": [],
            "needs_background": "light"
          }
        }
      ]
    },
    {
      "cell_type": "code",
      "metadata": {
        "colab": {
          "base_uri": "https://localhost:8080/"
        },
        "id": "3gL_wwWDpZ7U",
        "outputId": "ab31ff10-7f06-439f-c0aa-976710e1015a"
      },
      "source": [
        "# Make new prediction\r\n",
        "new_salary_pred = regression.predict([[13]])\r\n",
        "print('The prediction salary of a person with 13 year of experience is:',new_salary_pred)"
      ],
      "execution_count": 13,
      "outputs": [
        {
          "output_type": "stream",
          "text": [
            "The prediction salary of a person with 13 year of experience is: [148313.44400462]\n"
          ],
          "name": "stdout"
        }
      ]
    },
    {
      "cell_type": "markdown",
      "metadata": {
        "id": "lezQPh3HuU2N"
      },
      "source": [
        "**This completes our task. Hope you have enjoyed :-)**"
      ]
    }
  ]
}